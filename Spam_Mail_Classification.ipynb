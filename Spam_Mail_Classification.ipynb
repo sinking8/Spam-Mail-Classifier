{
  "nbformat": 4,
  "nbformat_minor": 0,
  "metadata": {
    "accelerator": "TPU",
    "colab": {
      "name": "Spam Mail Classification ",
      "provenance": [],
      "collapsed_sections": []
    },
    "kernelspec": {
      "display_name": "Python 3",
      "name": "python3"
    },
    "language_info": {
      "name": "python"
    }
  },
  "cells": [
    {
      "cell_type": "code",
      "metadata": {
        "id": "Q9-oKNDmpHkG"
      },
      "source": [
        "import pandas as pd\n",
        "import numpy as np\n",
        "import os\n",
        "import re"
      ],
      "execution_count": 1,
      "outputs": []
    },
    {
      "cell_type": "code",
      "metadata": {
        "id": "a4aEz2vspyWD"
      },
      "source": [
        "# Loading Data\n",
        "data = pd.read_csv(\"./sample_data/spam_ham_dataset.csv\")"
      ],
      "execution_count": 2,
      "outputs": []
    },
    {
      "cell_type": "code",
      "metadata": {
        "colab": {
          "base_uri": "https://localhost:8080/",
          "height": 204
        },
        "id": "91WCThTYqHwW",
        "outputId": "b8c3ac8e-c5a5-44c5-bb70-620446f846dd"
      },
      "source": [
        "data.head(5)"
      ],
      "execution_count": 3,
      "outputs": [
        {
          "output_type": "execute_result",
          "data": {
            "text/html": [
              "<div>\n",
              "<style scoped>\n",
              "    .dataframe tbody tr th:only-of-type {\n",
              "        vertical-align: middle;\n",
              "    }\n",
              "\n",
              "    .dataframe tbody tr th {\n",
              "        vertical-align: top;\n",
              "    }\n",
              "\n",
              "    .dataframe thead th {\n",
              "        text-align: right;\n",
              "    }\n",
              "</style>\n",
              "<table border=\"1\" class=\"dataframe\">\n",
              "  <thead>\n",
              "    <tr style=\"text-align: right;\">\n",
              "      <th></th>\n",
              "      <th>Unnamed: 0</th>\n",
              "      <th>label</th>\n",
              "      <th>text</th>\n",
              "      <th>label_num</th>\n",
              "    </tr>\n",
              "  </thead>\n",
              "  <tbody>\n",
              "    <tr>\n",
              "      <th>0</th>\n",
              "      <td>605</td>\n",
              "      <td>ham</td>\n",
              "      <td>Subject: enron methanol ; meter # : 988291\\r\\n...</td>\n",
              "      <td>0</td>\n",
              "    </tr>\n",
              "    <tr>\n",
              "      <th>1</th>\n",
              "      <td>2349</td>\n",
              "      <td>ham</td>\n",
              "      <td>Subject: hpl nom for january 9 , 2001\\r\\n( see...</td>\n",
              "      <td>0</td>\n",
              "    </tr>\n",
              "    <tr>\n",
              "      <th>2</th>\n",
              "      <td>3624</td>\n",
              "      <td>ham</td>\n",
              "      <td>Subject: neon retreat\\r\\nho ho ho , we ' re ar...</td>\n",
              "      <td>0</td>\n",
              "    </tr>\n",
              "    <tr>\n",
              "      <th>3</th>\n",
              "      <td>4685</td>\n",
              "      <td>spam</td>\n",
              "      <td>Subject: photoshop , windows , office . cheap ...</td>\n",
              "      <td>1</td>\n",
              "    </tr>\n",
              "    <tr>\n",
              "      <th>4</th>\n",
              "      <td>2030</td>\n",
              "      <td>ham</td>\n",
              "      <td>Subject: re : indian springs\\r\\nthis deal is t...</td>\n",
              "      <td>0</td>\n",
              "    </tr>\n",
              "  </tbody>\n",
              "</table>\n",
              "</div>"
            ],
            "text/plain": [
              "   Unnamed: 0  ... label_num\n",
              "0         605  ...         0\n",
              "1        2349  ...         0\n",
              "2        3624  ...         0\n",
              "3        4685  ...         1\n",
              "4        2030  ...         0\n",
              "\n",
              "[5 rows x 4 columns]"
            ]
          },
          "metadata": {},
          "execution_count": 3
        }
      ]
    },
    {
      "cell_type": "code",
      "metadata": {
        "id": "R1DiydtZp7wX"
      },
      "source": [
        "data = data.drop(['Unnamed: 0'],axis=1)"
      ],
      "execution_count": 4,
      "outputs": []
    },
    {
      "cell_type": "code",
      "metadata": {
        "id": "8F2etTeQqNic"
      },
      "source": [
        "X = data['text']\n",
        "Y = data['label_num']"
      ],
      "execution_count": 5,
      "outputs": []
    },
    {
      "cell_type": "code",
      "metadata": {
        "colab": {
          "base_uri": "https://localhost:8080/"
        },
        "id": "RHo4-t74uUwX",
        "outputId": "b9d6b0f5-92c9-4fe9-8ecc-3f4ec7f45181"
      },
      "source": [
        "from nltk.corpus import stopwords\n",
        "from nltk.tokenize import word_tokenize\n",
        "import nltk\n",
        "\n",
        "nltk.download('stopwords')\n",
        "nltk.download('punkt')"
      ],
      "execution_count": 6,
      "outputs": [
        {
          "output_type": "stream",
          "name": "stdout",
          "text": [
            "[nltk_data] Downloading package stopwords to /root/nltk_data...\n",
            "[nltk_data]   Unzipping corpora/stopwords.zip.\n",
            "[nltk_data] Downloading package punkt to /root/nltk_data...\n",
            "[nltk_data]   Unzipping tokenizers/punkt.zip.\n"
          ]
        },
        {
          "output_type": "execute_result",
          "data": {
            "text/plain": [
              "True"
            ]
          },
          "metadata": {},
          "execution_count": 6
        }
      ]
    },
    {
      "cell_type": "code",
      "metadata": {
        "id": "4Sv6XXN9r9F5"
      },
      "source": [
        "def preprocess_text(data):\n",
        "  # Removing special characters and Numericals\n",
        "  data = [re.sub(r\"[^a-zA-Z]+\", ' ', text) for text in data]\n",
        "  # Tokenizing the words\n",
        "  data = [word_tokenize(text) for text in data]\n",
        "  # Removing stopwords\n",
        "  data = [' '.join(list(filter(lambda x:x not in stopwords.words(),record))) for record in data] \n",
        "  return data"
      ],
      "execution_count": 7,
      "outputs": []
    },
    {
      "cell_type": "code",
      "metadata": {
        "id": "31CxlFOBxXp7"
      },
      "source": [
        "X_preprocessed = preprocess_text(X)"
      ],
      "execution_count": 8,
      "outputs": []
    },
    {
      "cell_type": "code",
      "metadata": {
        "id": "YDRYaSYiCfhB"
      },
      "source": [
        "data['Processed Text'] = X_preprocessed"
      ],
      "execution_count": 20,
      "outputs": []
    },
    {
      "cell_type": "code",
      "metadata": {
        "id": "0BR5PipOCm1A"
      },
      "source": [
        "data.to_csv(\"Processed.csv\")"
      ],
      "execution_count": 21,
      "outputs": []
    },
    {
      "cell_type": "code",
      "metadata": {
        "id": "7GhJrQq0Cxa3"
      },
      "source": [
        "data = pd.read_csv(\"./Processed.csv\")"
      ],
      "execution_count": 23,
      "outputs": []
    },
    {
      "cell_type": "code",
      "metadata": {
        "colab": {
          "base_uri": "https://localhost:8080/"
        },
        "id": "-HrkL4FL2Cpo",
        "outputId": "325cb328-ac71-4dbc-b2b5-05d38105e2e4"
      },
      "source": [
        "print(X_preprocessed[6])"
      ],
      "execution_count": 9,
      "outputs": [
        {
          "output_type": "stream",
          "name": "stdout",
          "text": [
            "Subject spring savings certificate save use customer appreciation spring savings certificate foot locker lady foot locker kids foot locker online stores welcome customer appreciation spring savings certificate use special certificate receive purchases either stores online hurry day begins thursday march ends sunday march share savings today mail offer friends many items already reduced discount taken lowest price click print customer appreciation spring savings certificate must present coupon foot locker lady foot locker kids foot locker store foot locker canada participating program ready set save spring savings discount automatically appear use links type camlem promotion code box checkout footlocker certificate code camlem ladyfootlocker certificate code camlem kidsfootlocker certificate code camlem remember returns hassle free simply bring items stores nationwide mail left register today learn new products promotions events specials simply click terms conditions exclusions apply please see manager complete details certificate must presented time purchase used conjunction discount offer associate benefit redeemable cash applicable taxes must paid bearer applied prior purchases gift card purchases void prohibited licensed regulated catalog exclusions apply valid thursday sunday foot locker canada participate program wish receive future emails please click unsubscribe\n"
          ]
        }
      ]
    },
    {
      "cell_type": "code",
      "metadata": {
        "id": "eMITuTXmBZdH"
      },
      "source": [
        "from tensorflow.keras.preprocessing.text import Tokenizer\n",
        "from tensorflow.keras.preprocessing.sequence import pad_sequences"
      ],
      "execution_count": 10,
      "outputs": []
    },
    {
      "cell_type": "code",
      "metadata": {
        "id": "aOjVxV6kBs9k"
      },
      "source": [
        "num_words = 100\n",
        "oov_token = '<UNK>'\n",
        "pad_type = 'post'\n",
        "trunc_type = 'post'\n",
        "\n",
        "# Tokenize our data\n",
        "tokenizer = Tokenizer(num_words=num_words, oov_token=oov_token)\n",
        "tokenizer.fit_on_texts(X_preprocessed)\n",
        "\n",
        "# Get our data word index\n",
        "word_index = tokenizer.word_index\n",
        "\n",
        "# Encode data sentences into sequences\n",
        "sequences = tokenizer.texts_to_sequences(X_preprocessed)\n",
        "\n",
        "# Get max sequence length\n",
        "maxlen = max([len(x) for x in sequences])\n",
        "\n",
        "# Pad the sequences\n",
        "padded = pad_sequences(sequences, padding=pad_type, truncating=trunc_type, maxlen=maxlen)"
      ],
      "execution_count": 11,
      "outputs": []
    },
    {
      "cell_type": "code",
      "metadata": {
        "id": "BqK8hyhl1XYG"
      },
      "source": [
        "from sklearn.model_selection import train_test_split"
      ],
      "execution_count": 12,
      "outputs": []
    },
    {
      "cell_type": "code",
      "metadata": {
        "id": "gbMxB6qI1e9y"
      },
      "source": [
        "X_train,X_test,y_train,y_test = train_test_split(padded,Y)"
      ],
      "execution_count": 13,
      "outputs": []
    },
    {
      "cell_type": "code",
      "metadata": {
        "id": "TEGk9K5HDy5m"
      },
      "source": [
        "from tensorflow.keras.callbacks import EarlyStopping\n",
        "from tensorflow.keras.models import Sequential\n",
        "from tensorflow.keras.layers import Embedding, Dense,LSTM\n",
        "from tensorflow.keras.models import load_model"
      ],
      "execution_count": 14,
      "outputs": []
    },
    {
      "cell_type": "code",
      "metadata": {
        "id": "z9WI37_XnY0k"
      },
      "source": [
        "from sklearn.metrics import accuracy_score,confusion_matrix,classification_report"
      ],
      "execution_count": 15,
      "outputs": []
    },
    {
      "cell_type": "code",
      "metadata": {
        "id": "ZbZ2LEnWDJro"
      },
      "source": [
        "class Model:\n",
        "  model = None\n",
        "\n",
        "  # Architecture Params\n",
        "  vocab_size = 500\n",
        "  embeding_dim = 16\n",
        "  n_dense = 24\n",
        "  n_lstm = 20\n",
        "\n",
        "\n",
        "  # Predictions Dict\n",
        "  preds_dict = {0:\"ham\",1:\"spam\"}\n",
        "\n",
        "  def __init__(self):\n",
        "    self.init_model()\n",
        "\n",
        "  def init_model(self):\n",
        "    # Declaring Sequential model\n",
        "    self.model = Sequential()\n",
        "    \n",
        "    # Embedding and LSTM\n",
        "    self.model.add(Embedding(self.vocab_size, self.embeding_dim, input_length=maxlen))\n",
        "    self.model.add(LSTM(self.n_lstm, return_sequences=True))\n",
        "    \n",
        "    # Output Layer\n",
        "    self.model.add(Dense(1, activation='sigmoid'))\n",
        "  \n",
        "    self.model.compile(loss = 'binary_crossentropy', optimizer = 'adam', metrics=['accuracy'])\n",
        "\n",
        "  def train_model(self,X,y,epochs,validation_data,early_stop):\n",
        "    history = self.model.fit(X, y, epochs=epochs,validation_data=validation_data,callbacks =[early_stop], verbose=2)\n",
        "    return history\n",
        "\n",
        "  def predict(self,X):\n",
        "    preds = self.model.predict(X)\n",
        "    return preds\n",
        "\n",
        "  def load_model(self,model_dir):\n",
        "    self.model = load_model(model_dir)\n",
        "\n",
        "  def save_model(self,model_dir):\n",
        "    self.model.save(model_dir)"
      ],
      "execution_count": 16,
      "outputs": []
    },
    {
      "cell_type": "code",
      "metadata": {
        "id": "OZS5vGNSEVoy"
      },
      "source": [
        "# model_inst = Model()\n",
        "# model_inst.train_model(X_train,y_train,25,early_stop)\n",
        "\n",
        "# num_epochs = 30\n",
        "# early_stop = EarlyStopping(monitor='loss', patience=2)\n",
        "# history = model.fit(X_train, data['label_num'], epochs=num_epochs,callbacks =[early_stop], verbose=2)"
      ],
      "execution_count": 17,
      "outputs": []
    },
    {
      "cell_type": "code",
      "metadata": {
        "colab": {
          "base_uri": "https://localhost:8080/"
        },
        "id": "kECu7XM5mCMG",
        "outputId": "bf1d782d-e99b-4c17-cde5-479da35c99f5"
      },
      "source": [
        "num_epochs = 5\n",
        "early_stop = EarlyStopping(monitor='loss', patience=1)\n",
        "model_inst = Model()\n",
        "\n",
        "history = model_inst.train_model(X_train,y_train,num_epochs,(X_test, y_test),early_stop)"
      ],
      "execution_count": 22,
      "outputs": [
        {
          "output_type": "stream",
          "name": "stdout",
          "text": [
            "Epoch 1/5\n",
            "122/122 - 169s - loss: 0.6163 - accuracy: 0.7034 - val_loss: 0.5821 - val_accuracy: 0.7301\n",
            "Epoch 2/5\n",
            "122/122 - 169s - loss: 0.6052 - accuracy: 0.7063 - val_loss: 0.5782 - val_accuracy: 0.7363\n",
            "Epoch 3/5\n",
            "122/122 - 166s - loss: 0.6034 - accuracy: 0.7104 - val_loss: 0.5756 - val_accuracy: 0.7368\n",
            "Epoch 4/5\n",
            "122/122 - 167s - loss: 0.6003 - accuracy: 0.7108 - val_loss: 0.5746 - val_accuracy: 0.7372\n",
            "Epoch 5/5\n",
            "122/122 - 168s - loss: 0.5984 - accuracy: 0.7118 - val_loss: 0.5747 - val_accuracy: 0.7386\n"
          ]
        }
      ]
    },
    {
      "cell_type": "code",
      "metadata": {
        "id": "N6hDQ8vnmdSN",
        "colab": {
          "base_uri": "https://localhost:8080/"
        },
        "outputId": "6214f1ae-9471-4635-bdd6-af98adc02546"
      },
      "source": [
        "# Summary of the architecture\n",
        "model_inst.model.summary()"
      ],
      "execution_count": 24,
      "outputs": [
        {
          "output_type": "stream",
          "name": "stdout",
          "text": [
            "Model: \"sequential_1\"\n",
            "_________________________________________________________________\n",
            "Layer (type)                 Output Shape              Param #   \n",
            "=================================================================\n",
            "embedding_1 (Embedding)      (None, 2577, 16)          8000      \n",
            "_________________________________________________________________\n",
            "lstm_1 (LSTM)                (None, 2577, 20)          2960      \n",
            "_________________________________________________________________\n",
            "dense_1 (Dense)              (None, 2577, 1)           21        \n",
            "=================================================================\n",
            "Total params: 10,981\n",
            "Trainable params: 10,981\n",
            "Non-trainable params: 0\n",
            "_________________________________________________________________\n"
          ]
        }
      ]
    },
    {
      "cell_type": "code",
      "metadata": {
        "id": "wiZc-8z31F7N"
      },
      "source": [
        "model_inst.save_model(\"model.h5\")"
      ],
      "execution_count": 25,
      "outputs": []
    },
    {
      "cell_type": "code",
      "metadata": {
        "id": "BpsFzgaaoY9v"
      },
      "source": [
        "model_inst = Model()\n",
        "model_inst.load_model(\"./model.h5\")\n",
        "preds = model_inst.predict(X_test)"
      ],
      "execution_count": 26,
      "outputs": []
    },
    {
      "cell_type": "code",
      "metadata": {
        "id": "hAm5IxpVHIW-"
      },
      "source": [
        "import matplotlib.pyplot as plt"
      ],
      "execution_count": 29,
      "outputs": []
    },
    {
      "cell_type": "code",
      "metadata": {
        "id": "JV81-C3C5D8-",
        "colab": {
          "base_uri": "https://localhost:8080/",
          "height": 573
        },
        "outputId": "b426053f-1d5a-4b66-bc17-548b13947e99"
      },
      "source": [
        "metrics = pd.DataFrame(history.history)\n",
        "# Rename column\n",
        "metrics.rename(columns = {'loss': 'Training_Loss', 'accuracy': 'Training_Accuracy',\n",
        "                         'val_loss': 'Validation_Loss', 'val_accuracy': 'Validation_Accuracy'}, inplace = True)\n",
        "def plot_metric_curves(var1, var2, string):\n",
        "    metrics[[var1, var2]].plot()\n",
        "    plt.title('LSTM Model: Training and Validation ' + string)\n",
        "    plt.xlabel ('Number of epochs')\n",
        "    plt.ylabel(string)\n",
        "    plt.legend([var1, var2])\n",
        "\n",
        "plot_metric_curves('Training_Loss', 'Validation_Loss', 'loss')\n",
        "plot_metric_curves('Training_Accuracy', 'Validation_Accuracy', 'accuracy')"
      ],
      "execution_count": 30,
      "outputs": [
        {
          "output_type": "display_data",
          "data": {
            "image/png": "[encoded data removed]",
            "text/plain": [
              "<Figure size 432x288 with 1 Axes>"
            ]
          },
          "metadata": {
            "needs_background": "light"
          }
        },
        {
          "output_type": "display_data",
          "data": {
            "image/png": "[encoded data removed]",
            "text/plain": [
              "<Figure size 432x288 with 1 Axes>"
            ]
          },
          "metadata": {
            "needs_background": "light"
          }
        }
      ]
    }
  ]
}