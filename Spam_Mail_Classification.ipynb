{
  "nbformat": 4,
  "nbformat_minor": 0,
  "metadata": {
    "accelerator": "TPU",
    "colab": {
      "name": "Spam Mail Classification ",
      "provenance": [],
      "collapsed_sections": []
    },
    "kernelspec": {
      "display_name": "Python 3",
      "name": "python3"
    },
    "language_info": {
      "name": "python"
    }
  },
  "cells": [
    {
      "cell_type": "code",
      "metadata": {
        "id": "Q9-oKNDmpHkG"
      },
      "source": [
        "import time\n",
        "\n",
        "import os\n",
        "import re\n",
        "\n",
        "import pandas as pd\n",
        "import numpy as np"
      ],
      "execution_count": null,
      "outputs": []
    },
    {
      "cell_type": "code",
      "metadata": {
        "id": "a4aEz2vspyWD"
      },
      "source": [
        "# Loading Data\n",
        "data = pd.read_csv(\"./sample_data/spam_ham_dataset.csv\")"
      ],
      "execution_count": null,
      "outputs": []
    },
    {
      "cell_type": "code",
      "metadata": {
        "colab": {
          "base_uri": "https://localhost:8080/",
          "height": 204
        },
        "id": "91WCThTYqHwW",
        "outputId": "b8c3ac8e-c5a5-44c5-bb70-620446f846dd"
      },
      "source": [
        "data.head(5)"
      ],
      "execution_count": null,
      "outputs": [
        {
          "output_type": "execute_result",
          "data": {
            "text/html": [
              "<div>\n",
              "<style scoped>\n",
              "    .dataframe tbody tr th:only-of-type {\n",
              "        vertical-align: middle;\n",
              "    }\n",
              "\n",
              "    .dataframe tbody tr th {\n",
              "        vertical-align: top;\n",
              "    }\n",
              "\n",
              "    .dataframe thead th {\n",
              "        text-align: right;\n",
              "    }\n",
              "</style>\n",
              "<table border=\"1\" class=\"dataframe\">\n",
              "  <thead>\n",
              "    <tr style=\"text-align: right;\">\n",
              "      <th></th>\n",
              "      <th>Unnamed: 0</th>\n",
              "      <th>label</th>\n",
              "      <th>text</th>\n",
              "      <th>label_num</th>\n",
              "    </tr>\n",
              "  </thead>\n",
              "  <tbody>\n",
              "    <tr>\n",
              "      <th>0</th>\n",
              "      <td>605</td>\n",
              "      <td>ham</td>\n",
              "      <td>Subject: enron methanol ; meter # : 988291\\r\\n...</td>\n",
              "      <td>0</td>\n",
              "    </tr>\n",
              "    <tr>\n",
              "      <th>1</th>\n",
              "      <td>2349</td>\n",
              "      <td>ham</td>\n",
              "      <td>Subject: hpl nom for january 9 , 2001\\r\\n( see...</td>\n",
              "      <td>0</td>\n",
              "    </tr>\n",
              "    <tr>\n",
              "      <th>2</th>\n",
              "      <td>3624</td>\n",
              "      <td>ham</td>\n",
              "      <td>Subject: neon retreat\\r\\nho ho ho , we ' re ar...</td>\n",
              "      <td>0</td>\n",
              "    </tr>\n",
              "    <tr>\n",
              "      <th>3</th>\n",
              "      <td>4685</td>\n",
              "      <td>spam</td>\n",
              "      <td>Subject: photoshop , windows , office . cheap ...</td>\n",
              "      <td>1</td>\n",
              "    </tr>\n",
              "    <tr>\n",
              "      <th>4</th>\n",
              "      <td>2030</td>\n",
              "      <td>ham</td>\n",
              "      <td>Subject: re : indian springs\\r\\nthis deal is t...</td>\n",
              "      <td>0</td>\n",
              "    </tr>\n",
              "  </tbody>\n",
              "</table>\n",
              "</div>"
            ],
            "text/plain": [
              "   Unnamed: 0  ... label_num\n",
              "0         605  ...         0\n",
              "1        2349  ...         0\n",
              "2        3624  ...         0\n",
              "3        4685  ...         1\n",
              "4        2030  ...         0\n",
              "\n",
              "[5 rows x 4 columns]"
            ]
          },
          "metadata": {},
          "execution_count": 3
        }
      ]
    },
    {
      "cell_type": "code",
      "metadata": {
        "id": "R1DiydtZp7wX"
      },
      "source": [
        "data = data.drop(['Unnamed: 0'],axis=1)"
      ],
      "execution_count": null,
      "outputs": []
    },
    {
      "cell_type": "code",
      "metadata": {
        "id": "XyCu9Hp4xXwB"
      },
      "source": [
        "from nltk.corpus import stopwords\n",
        "from nltk.tokenize import word_tokenize\n",
        "import nltk"
      ],
      "execution_count": null,
      "outputs": []
    },
    {
      "cell_type": "code",
      "metadata": {
        "colab": {
          "base_uri": "https://localhost:8080/"
        },
        "id": "RHo4-t74uUwX",
        "outputId": "bb1a468c-4a47-40cf-c118-66daa6dddc7a"
      },
      "source": [
        "nltk.download('stopwords')\n",
        "nltk.download('punkt')"
      ],
      "execution_count": null,
      "outputs": [
        {
          "output_type": "stream",
          "name": "stdout",
          "text": [
            "[nltk_data] Downloading package stopwords to /root/nltk_data...\n",
            "[nltk_data]   Unzipping corpora/stopwords.zip.\n",
            "[nltk_data] Downloading package punkt to /root/nltk_data...\n",
            "[nltk_data]   Unzipping tokenizers/punkt.zip.\n"
          ]
        },
        {
          "output_type": "execute_result",
          "data": {
            "text/plain": [
              "True"
            ]
          },
          "metadata": {},
          "execution_count": 2
        }
      ]
    },
    {
      "cell_type": "code",
      "metadata": {
        "id": "4Sv6XXN9r9F5"
      },
      "source": [
        "def preprocess_text(data):\n",
        "  # Removing special characters and Numericals\n",
        "  data = [re.sub(r\"[^a-zA-Z]+\", ' ', text) for text in data]\n",
        "  # Tokenizing the words\n",
        "  data = [word_tokenize(text) for text in data]\n",
        "  # Removing stopwords\n",
        "  data = [' '.join(list(filter(lambda x:x not in stopwords.words(),record))) for record in data] \n",
        "  return data"
      ],
      "execution_count": null,
      "outputs": []
    },
    {
      "cell_type": "code",
      "metadata": {
        "id": "YDRYaSYiCfhB"
      },
      "source": [
        "X_preprocessed = preprocess_text(X)\n",
        "data['Processed Text'] = X_preprocessed"
      ],
      "execution_count": null,
      "outputs": []
    },
    {
      "cell_type": "code",
      "metadata": {
        "id": "0BR5PipOCm1A"
      },
      "source": [
        "# Saving the processed text csv\n",
        "data.to_csv(\"Processed.csv\")"
      ],
      "execution_count": null,
      "outputs": []
    },
    {
      "cell_type": "code",
      "metadata": {
        "id": "7GhJrQq0Cxa3"
      },
      "source": [
        "data = pd.read_csv(\"./Processed.csv\")"
      ],
      "execution_count": null,
      "outputs": []
    },
    {
      "cell_type": "code",
      "metadata": {
        "id": "8F2etTeQqNic"
      },
      "source": [
        "X = data['text']\n",
        "X_preprocessed = data['Processed Text']\n",
        "Y = data['label_num']"
      ],
      "execution_count": null,
      "outputs": []
    },
    {
      "cell_type": "code",
      "metadata": {
        "id": "eMITuTXmBZdH"
      },
      "source": [
        "from tensorflow.keras.preprocessing.text import Tokenizer\n",
        "from tensorflow.keras.preprocessing.sequence import pad_sequences"
      ],
      "execution_count": null,
      "outputs": []
    },
    {
      "cell_type": "code",
      "metadata": {
        "id": "aOjVxV6kBs9k"
      },
      "source": [
        "num_words = 100\n",
        "oov_token = '<UNK>'\n",
        "pad_type = 'post'\n",
        "trunc_type = 'post'\n",
        "\n",
        "# Tokenize our data\n",
        "tokenizer = Tokenizer(num_words=num_words, oov_token=oov_token)\n",
        "tokenizer.fit_on_texts(X_preprocessed)\n",
        "\n",
        "# Get our data word index\n",
        "word_index = tokenizer.word_index\n",
        "\n",
        "# Encode data sentences into sequences\n",
        "sequences = tokenizer.texts_to_sequences(X_preprocessed)\n",
        "\n",
        "# Get max sequence length\n",
        "maxlen = max([len(x) for x in sequences])\n",
        "\n",
        "# Pad the sequences\n",
        "padded = pad_sequences(sequences, padding=pad_type, truncating=trunc_type, maxlen=maxlen)"
      ],
      "execution_count": null,
      "outputs": []
    },
    {
      "cell_type": "code",
      "metadata": {
        "id": "BqK8hyhl1XYG"
      },
      "source": [
        "from sklearn.model_selection import train_test_split\n",
        "\n",
        "import tensorflow as tf\n",
        "from tensorflow import keras\n",
        "\n",
        "from tensorflow.keras.layers import Embedding, Dense, LSTM, Flatten\n",
        "from tensorflow.keras.models import load_model"
      ],
      "execution_count": null,
      "outputs": []
    },
    {
      "cell_type": "code",
      "metadata": {
        "id": "gbMxB6qI1e9y"
      },
      "source": [
        "X_train,X_test,y_train,y_test = train_test_split(padded,Y)\n",
        "X_train = np.reshape(X_train, (-1,maxlen))\n",
        "X_test = np.reshape(X_test, (-1,maxlen))"
      ],
      "execution_count": null,
      "outputs": []
    },
    {
      "cell_type": "code",
      "metadata": {
        "id": "tnmtSWMYjg7s"
      },
      "source": [
        "batch_size = 24\n",
        "\n",
        "# Prepare the training dataset.\n",
        "train_dataset = tf.data.Dataset.from_tensor_slices((X_train, y_train))\n",
        "train_dataset = train_dataset.shuffle(buffer_size=1024).batch(batch_size)\n",
        "\n",
        "# Prepare the validation dataset.\n",
        "val_dataset = tf.data.Dataset.from_tensor_slices((X_test, y_test))\n",
        "val_dataset = val_dataset.batch(batch_size)"
      ],
      "execution_count": null,
      "outputs": []
    },
    {
      "cell_type": "code",
      "metadata": {
        "id": "z9WI37_XnY0k"
      },
      "source": [
        "from sklearn.metrics import accuracy_score,confusion_matrix,classification_report"
      ],
      "execution_count": null,
      "outputs": []
    },
    {
      "cell_type": "code",
      "metadata": {
        "id": "ZbZ2LEnWDJro"
      },
      "source": [
        "class Model:\n",
        "\n",
        "  model = None\n",
        "\n",
        "  # Architecture Params\n",
        "  vocab_size = 500\n",
        "  embeding_dim = 16\n",
        "  n_dense = 24\n",
        "  n_lstm = 20\n",
        "\n",
        "  train_accuracy = []\n",
        "  val_accuracy = []\n",
        "\n",
        "\n",
        "  # Predictions Dict\n",
        "  preds_dict = {0:\"ham\",1:\"spam\"}\n",
        "\n",
        "  def __init__(self):\n",
        "    self.init_model()\n",
        "\n",
        "  def init_model(self):\n",
        "\n",
        "    # Inputs for the model\n",
        "    inputs = keras.Input(shape=(maxlen,))\n",
        "\n",
        "    # Embedding layer\n",
        "    embedding = Embedding(self.vocab_size,self.embeding_dim,input_length=maxlen)(inputs)\n",
        "\n",
        "    # LSTM Cell\n",
        "    LSTM_cell = LSTM(self.n_lstm,return_sequences=True)(embedding)\n",
        "\n",
        "    # Flatten Layer\n",
        "    flatten = Flatten()(LSTM_cell)\n",
        "\n",
        "    # Output Layer\n",
        "    output = Dense(1,name='predictions')(LSTM_cell)\n",
        "\n",
        "    # Creating the model\n",
        "    self.model = keras.Model(inputs = inputs,outputs=output)\n",
        "\n",
        "    # Optimizer and loss fn for the model\n",
        "    self.optimizer = keras.optimizers.SGD(learning_rate=1e-3)\n",
        "    self.loss_fn = keras.losses.BinaryCrossentropy(from_logits=False)\n",
        "\n",
        "    # Metrics for the model\n",
        "    self.train_acc_metric = keras.metrics.BinaryAccuracy()\n",
        "    self.val_acc_metric   = keras.metrics.BinaryAccuracy()\n",
        "\n",
        "\n",
        "  def train_model(self,train_dataset,validation_data,epochs):\n",
        "    \n",
        "    for epoch in range(epochs):\n",
        "        print(\"\\nStart of epoch %d\" % (epoch,))\n",
        "        start_time = time.time()\n",
        "\n",
        "        # Iterate over the batches of the dataset.\n",
        "        for step, (x_batch_train, y_batch_train) in enumerate(train_dataset):\n",
        "            with tf.GradientTape() as tape:\n",
        "                logits = self.model(x_batch_train, training=True)\n",
        "                loss_value = self.loss_fn(y_batch_train, logits)\n",
        "            \n",
        "            grads = tape.gradient(loss_value, self.model.trainable_weights)\n",
        "            self.optimizer.apply_gradients(zip(grads, self.model.trainable_weights))\n",
        "\n",
        "            # Update training metric.\n",
        "            self.train_acc_metric.update_state(y_batch_train, logits)\n",
        "\n",
        "            # Log every 100 batches.\n",
        "            if step % 100 == 0:\n",
        "                print(\n",
        "                    \"Training loss (for one batch) at step %d: %.4f\"\n",
        "                    % (step, float(loss_value))\n",
        "                )\n",
        "                print(\"Seen so far: %d samples\" % ((step + 1) * batch_size))\n",
        "\n",
        "        # Display metrics at the end of each epoch.\n",
        "        train_acc = self.train_acc_metric.result()\n",
        "        self.train_accuracy.append(train_acc)\n",
        "        print(\"Training acc over epoch: %.4f\" % (float(train_acc),))\n",
        "\n",
        "        # Reset training metrics at the end of each epoch\n",
        "        self.train_acc_metric.reset_states()\n",
        "\n",
        "        # Run a validation loop at the end of each epoch.\n",
        "        for x_batch_val, y_batch_val in validation_data:\n",
        "            val_logits = self.model(x_batch_val, training=False)\n",
        "            self.val_acc_metric.update_state(y_batch_val, val_logits)\n",
        "        \n",
        "        val_acc = self.val_acc_metric.result()\n",
        "        self.val_accuracy.append(val_acc)\n",
        "        self.val_acc_metric.reset_states()\n",
        "\n",
        "        print(\"Validation acc: %.4f\" % (float(val_acc),))\n",
        "        print(\"Time taken: %.2fs\" % (time.time() - start_time))\n",
        "\n",
        "  def load_model(self,model_dir):\n",
        "    self.model = load_model(model_dir)\n",
        "\n",
        "  def plot_metric_curves(self):\n",
        "    plt.plot(self.train_accuracy,np.arange(len(self.train_accuracy)))\n",
        "    plt.plot(self.val_accuracy,np.arange(len(self.val_accuract)))\n",
        "    plt.show()\n",
        "\n",
        "  def save_model(self,model_dir):\n",
        "    self.model.save(model_dir)"
      ],
      "execution_count": null,
      "outputs": []
    },
    {
      "cell_type": "code",
      "metadata": {
        "colab": {
          "base_uri": "https://localhost:8080/"
        },
        "id": "kECu7XM5mCMG",
        "outputId": "1f15679a-aacc-49e6-956e-f9376ca8712b"
      },
      "source": [
        "num_epochs = 3\n",
        "\n",
        "model_inst = Model()\n",
        "model_inst.train_model(train_dataset,val_dataset,num_epochs)"
      ],
      "execution_count": null,
      "outputs": [
        {
          "output_type": "stream",
          "name": "stdout",
          "text": [
            "\n",
            "Start of epoch 0\n",
            "Training loss (for one batch) at step 0: 1.8282\n",
            "Seen so far: 24 samples\n",
            "Training loss (for one batch) at step 100: 0.6867\n",
            "Seen so far: 2424 samples\n",
            "Training acc over epoch: 0.7143\n",
            "Validation acc: 0.6976\n",
            "Time taken: 792.55s\n",
            "\n",
            "Start of epoch 1\n",
            "Training loss (for one batch) at step 0: 0.6043\n",
            "Seen so far: 24 samples\n",
            "Training loss (for one batch) at step 100: 0.5323\n",
            "Seen so far: 2424 samples\n",
            "Training acc over epoch: 0.7143\n",
            "Validation acc: 0.6976\n",
            "Time taken: 883.84s\n",
            "\n",
            "Start of epoch 2\n",
            "Training loss (for one batch) at step 0: 0.6412\n",
            "Seen so far: 24 samples\n",
            "Training loss (for one batch) at step 100: 0.5279\n",
            "Seen so far: 2424 samples\n",
            "Training acc over epoch: 0.7143\n",
            "Validation acc: 0.6976\n",
            "Time taken: 845.76s\n"
          ]
        }
      ]
    },
    {
      "cell_type": "code",
      "metadata": {
        "id": "N6hDQ8vnmdSN",
        "colab": {
          "base_uri": "https://localhost:8080/"
        },
        "outputId": "68b34677-22e8-4f1b-bec6-41a049ec137f"
      },
      "source": [
        "# Summary of the architecture\n",
        "model_inst.model.summary()"
      ],
      "execution_count": null,
      "outputs": [
        {
          "output_type": "stream",
          "name": "stdout",
          "text": [
            "Model: \"model_14\"\n",
            "_________________________________________________________________\n",
            " Layer (type)                Output Shape              Param #   \n",
            "=================================================================\n",
            " input_18 (InputLayer)       [(None, 2577)]            0         \n",
            "                                                                 \n",
            " embedding_20 (Embedding)    (None, 2577, 16)          8000      \n",
            "                                                                 \n",
            " lstm_21 (LSTM)              (None, 2577, 20)          2960      \n",
            "                                                                 \n",
            " predictions (Dense)         (None, 2577, 1)           21        \n",
            "                                                                 \n",
            "=================================================================\n",
            "Total params: 10,981\n",
            "Trainable params: 10,981\n",
            "Non-trainable params: 0\n",
            "_________________________________________________________________\n"
          ]
        }
      ]
    },
    {
      "cell_type": "code",
      "metadata": {
        "id": "wiZc-8z31F7N",
        "colab": {
          "base_uri": "https://localhost:8080/"
        },
        "outputId": "ea11f244-24c9-4ba9-f806-1a3d8d7e583b"
      },
      "source": [
        "model_inst.save_model(\"model.h5\")"
      ],
      "execution_count": null,
      "outputs": [
        {
          "output_type": "stream",
          "name": "stdout",
          "text": [
            "WARNING:tensorflow:Compiled the loaded model, but the compiled metrics have yet to be built. `model.compile_metrics` will be empty until you train or evaluate the model.\n"
          ]
        }
      ]
    },
    {
      "cell_type": "code",
      "metadata": {
        "id": "BpsFzgaaoY9v"
      },
      "source": [
        "model_inst = Model()\n",
        "model_inst.load_model(\"./model.h5\")\n",
        "#preds = model_inst.predict(X_test)"
      ],
      "execution_count": null,
      "outputs": []
    }
  ]
}